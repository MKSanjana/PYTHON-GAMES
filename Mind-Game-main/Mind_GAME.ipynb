{
  "nbformat": 4,
  "nbformat_minor": 0,
  "metadata": {
    "colab": {
      "name": "Mind GAME.ipynb",
      "provenance": []
    },
    "kernelspec": {
      "name": "python3",
      "display_name": "Python 3"
    },
    "language_info": {
      "name": "python"
    }
  },
  "cells": [
    {
      "cell_type": "code",
      "source": [
        "import random\n",
        "\n",
        "\n",
        "# the .randrange() function generates a\n",
        "# random number within the specified range.\n",
        "num = random.randrange(1000, 10000)\n",
        "\n",
        "n = int(input(\"Guess the 4 digit number:\"))\n",
        "\n",
        "# condition to test equality of the\n",
        "# guess made. Program terminates if true.\n",
        "if (n == num):\n",
        "\tprint(\"Great! You guessed the number in just 1 try! You're a Mastermind!\")\n",
        "else:\n",
        "\t# ctr variable initialized. It will keep count of\n",
        "\t# the number of tries the Player takes to guess the number.\n",
        "\tctr = 0\n",
        "\n",
        "\t# while loop repeats as long as the\n",
        "\t# Player fails to guess the number correctly.\n",
        "\twhile (n != num):\n",
        "\t\t# variable increments every time the loop\n",
        "\t\t# is executed, giving an idea of how many\n",
        "\t\t# guesses were made.\n",
        "\t\tctr += 1\n",
        "\n",
        "\t\tcount = 0\n",
        "\n",
        "\t\t# explicit type conversion of an integer to\n",
        "\t\t# a string in order to ease extraction of digits\n",
        "\t\tn = str(n)\n",
        "\n",
        "\t\t# explicit type conversion of a string to an integer\n",
        "\t\tnum = str(num)\n",
        "\n",
        "\t\t# correct[] list stores digits which are correct\n",
        "\t\tcorrect = ['X']*4\n",
        "\n",
        "\t\t# for loop runs 4 times since the number has 4 digits.\n",
        "\t\tfor i in range(0, 4):\n",
        "\n",
        "\t\t\t# checking for equality of digits\n",
        "\t\t\tif (n[i] == num[i]):\n",
        "\t\t\t\t# number of digits guessed correctly increments\n",
        "\t\t\t\tcount += 1\n",
        "\t\t\t\t# hence, the digit is stored in correct[].\n",
        "\t\t\t\tcorrect[i] = n[i]\n",
        "\t\t\telse:\n",
        "\t\t\t\tcontinue\n",
        "\n",
        "\t\t# when not all the digits are guessed correctly.\n",
        "\t\tif (count < 4) and (count != 0):\n",
        "\t\t\tprint(\"Not quite the number. But you did get \", count, \" digit(s) correct!\")\n",
        "\t\t\tprint(\"Also these numbers in your input were correct.\")\n",
        "\t\t\tfor k in correct:\n",
        "\t\t\t\tprint(k, end=' ')\n",
        "\t\t\tprint('\\n')\n",
        "\t\t\tprint('\\n')\n",
        "\t\t\tn = int(input(\"Enter your next choice of numbers: \"))\n",
        "\n",
        "\t\t# when none of the digits are guessed correctly.\n",
        "\t\telif (count == 0):\n",
        "\t\t\tprint(\"None of the numbers in your input match.\")\n",
        "\t\t\tn = int(input(\"Enter your next choice of numbers: \"))\n",
        "\n",
        "\t# condition for equality.\n",
        "\tif n == num:\n",
        "\t\tprint(\"You've become a Mastermind!\")\n",
        "\t\tprint(\"It took you only\", ctr, \"tries.\")\n"
      ],
      "metadata": {
        "colab": {
          "base_uri": "https://localhost:8080/"
        },
        "id": "-A3-J9joLqDk",
        "outputId": "2719c810-ccac-480f-bbd1-2f99e5a924e3"
      },
      "execution_count": null,
      "outputs": [
        {
          "output_type": "stream",
          "name": "stdout",
          "text": [
            "Guess the 4 digit number:1564\n",
            "None of the numbers in your input match.\n",
            "Enter your next choice of numbers: 2645\n",
            "Not quite the number. But you did get  1  digit(s) correct!\n",
            "Also these numbers in your input were correct.\n",
            "X X 4 X \n",
            "\n",
            "\n",
            "\n"
          ]
        }
      ]
    }
  ]
}